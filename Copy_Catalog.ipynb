{
 "cells": [
  {
   "cell_type": "code",
   "execution_count": 1,
   "id": "bigger-puppy",
   "metadata": {},
   "outputs": [
    {
     "name": "stderr",
     "output_type": "stream",
     "text": [
      "/home/jsingla/anaconda3/envs/chisel/lib/python3.7/site-packages/portalocker/utils.py:210: UserWarning: timeout has no effect in blocking mode\n",
      "  warnings.warn('timeout has no effect in blocking mode')\n",
      "/home/jsingla/anaconda3/envs/chisel/lib/python3.7/site-packages/portalocker/utils.py:210: UserWarning: timeout has no effect in blocking mode\n",
      "  warnings.warn('timeout has no effect in blocking mode')\n"
     ]
    },
    {
     "name": "stdout",
     "output_type": "stream",
     "text": [
      "Skipping schema \"public\"\n",
      "Dropping schema \"data_commons\"\n",
      "Dropping schema \"_acl_admin\"\n",
      "Dropping schema \"common\"\n",
      "Dropping schema \"Beta_Cell\"\n",
      "Dropping schema \"viz\"\n",
      "Dropping schema \"Common\"\n",
      "Dropping schema \"vocab\"\n",
      "Dropping schema \"isa\"\n",
      "Dropping schema \"Vocab\"\n",
      "Dropping schema \"WWW\"\n",
      "Cloning source catalog\n",
      "Calalog cloned successfully\n"
     ]
    }
   ],
   "source": [
    "from deriva.core import DerivaServer, get_credential\n",
    "from deriva import chisel\n",
    "hostname = 'pbcconsortium.isrd.isi.edu'\n",
    "src = DerivaServer('https', hostname, credentials=get_credential(hostname)).connect_ermrest(1)\n",
    "dst = DerivaServer('https', hostname, credentials=get_credential(hostname)).connect_ermrest(31)\n",
    "model = chisel.Model.from_catalog(dst)\n",
    "for schema in list(model.schemas.values()):\n",
    "    if schema.name == 'public':\n",
    "        # this special schema is owner of many built in functions, cannot be dropped\n",
    "        print('Skipping schema \"public\"')\n",
    "        continue\n",
    "    print(f'Dropping schema \"{schema.name}\"')\n",
    "    schema.drop(cascade=True)\n",
    "print('Cloning source catalog')\n",
    "src.clone_catalog(dst, exclude_schemas={'public'}, copy_policy=False) # policy can only be seen by owner of source catalog \n",
    "print(\"Calalog cloned successfully\")"
   ]
  },
  {
   "cell_type": "code",
   "execution_count": null,
   "id": "87eefd78-96e8-47ab-817c-dd37eabc700e",
   "metadata": {},
   "outputs": [],
   "source": []
  }
 ],
 "metadata": {
  "kernelspec": {
   "display_name": "Python 3",
   "language": "python",
   "name": "python3"
  },
  "language_info": {
   "codemirror_mode": {
    "name": "ipython",
    "version": 3
   },
   "file_extension": ".py",
   "mimetype": "text/x-python",
   "name": "python",
   "nbconvert_exporter": "python",
   "pygments_lexer": "ipython3",
   "version": "3.7.0"
  }
 },
 "nbformat": 4,
 "nbformat_minor": 5
}
